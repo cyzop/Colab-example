{
  "cells": [
    {
      "cell_type": "markdown",
      "metadata": {
        "id": "view-in-github",
        "colab_type": "text"
      },
      "source": [
        "<a href=\"https://colab.research.google.com/github/cyzop/Colab-example/blob/main/Example.ipynb\" target=\"_parent\"><img src=\"https://colab.research.google.com/assets/colab-badge.svg\" alt=\"Open In Colab\"/></a>"
      ]
    },
    {
      "cell_type": "code",
      "execution_count": null,
      "metadata": {
        "id": "2Bz5P5jrOh90"
      },
      "outputs": [],
      "source": [
        "!pip install -q -U google-generativeai"
      ]
    },
    {
      "cell_type": "code",
      "execution_count": null,
      "metadata": {
        "id": "p4eJyDUeO7cP"
      },
      "outputs": [],
      "source": [
        "import google.generativeai as genai\n",
        "from google.colab import userdata\n",
        "GOOGLE_API_KEY = userdata.get('SECRET_KEY')\n",
        "genai.configure(api_key=GOOGLE_API_KEY)"
      ]
    },
    {
      "cell_type": "markdown",
      "metadata": {
        "id": "eVAuo0E3PY66"
      },
      "source": [
        "Listar os modelos disponíveis"
      ]
    },
    {
      "cell_type": "code",
      "execution_count": null,
      "metadata": {
        "colab": {
          "base_uri": "https://localhost:8080/",
          "height": 138
        },
        "id": "OQ2eRJ3NPeUM",
        "outputId": "e8e146f9-7b3d-440d-e536-b9b0cf2744a8"
      },
      "outputs": [
        {
          "name": "stdout",
          "output_type": "stream",
          "text": [
            "models/gemini-1.0-pro : ['generateContent', 'countTokens']\n",
            "models/gemini-1.0-pro-001 : ['generateContent', 'countTokens', 'createTunedModel']\n",
            "models/gemini-1.0-pro-latest : ['generateContent', 'countTokens']\n",
            "models/gemini-1.0-pro-vision-latest : ['generateContent', 'countTokens']\n",
            "models/gemini-1.5-pro-latest : ['generateContent', 'countTokens']\n",
            "models/gemini-pro : ['generateContent', 'countTokens']\n",
            "models/gemini-pro-vision : ['generateContent', 'countTokens']\n"
          ]
        }
      ],
      "source": [
        "for m in genai.list_models():\n",
        "  if 'generateContent' in m.supported_generation_methods:\n",
        "    print(f'{m.name} : {m.supported_generation_methods}')"
      ]
    },
    {
      "cell_type": "code",
      "execution_count": null,
      "metadata": {
        "id": "Qo-xH8gQQ2CI"
      },
      "outputs": [],
      "source": [
        "generation_config = {\n",
        "    \"candidate_count\":1,\n",
        "    \"temperature\": 0.5\n",
        "    }"
      ]
    },
    {
      "cell_type": "code",
      "execution_count": null,
      "metadata": {
        "id": "TWAfWEFqRWQI"
      },
      "outputs": [],
      "source": [
        "safety_settings = {\n",
        "    \"HARASSMENT\":\"BLOCK_NONE\",\n",
        "    \"SEXUAL\":\"BLOCK_NONE\",\n",
        "    \"DANGEROUS\":\"BLOCK_NONE\"\n",
        "}"
      ]
    },
    {
      "cell_type": "code",
      "execution_count": null,
      "metadata": {
        "id": "U_ILml6USMID"
      },
      "outputs": [],
      "source": [
        "model = genai.GenerativeModel(model_name = \"gemini-1.0-pro\", generation_config=generation_config, safety_settings=safety_settings)"
      ]
    },
    {
      "cell_type": "code",
      "execution_count": null,
      "metadata": {
        "colab": {
          "base_uri": "https://localhost:8080/",
          "height": 749
        },
        "id": "LmO9hcy0TERV",
        "outputId": "f8d7b2e4-7024-4d32-d968-367f278c6578"
      },
      "outputs": [
        {
          "name": "stdout",
          "output_type": "stream",
          "text": [
            "**Introdução à IA**\n",
            "\n",
            "* O que é Inteligência Artificial (IA)?\n",
            "* Tipos de IA: Aprendizado de Máquina, Aprendizado Profundo, Processamento de Linguagem Natural\n",
            "* Aplicações da IA em diferentes setores\n",
            "\n",
            "**Aprendizado de Máquina**\n",
            "\n",
            "* Conceitos básicos: Algoritmos Supervisionados, Não Supervisionados e de Reforço\n",
            "* Tipos de algoritmos de Aprendizado de Máquina: Regressão, Classificação, Agrupamento\n",
            "* Avaliação de modelos de Aprendizado de Máquina: Métricas e Técnicas de Validação\n",
            "\n",
            "**Aprendizado Profundo**\n",
            "\n",
            "* Redes Neurais: Arquiteturas e Tipos\n",
            "* Treinamento de Redes Neurais: Otimização e Regularização\n",
            "* Aplicações do Aprendizado Profundo: Visão Computacional, Processamento de Linguagem Natural\n",
            "\n",
            "**Processamento de Linguagem Natural (PNL)**\n",
            "\n",
            "* Fundamentos da PNL: Tokenização, Stemming, Lematização\n",
            "* Modelos de PNL: Embeddings de Palavras, Análise de Sentimentos, Geração de Linguagem\n",
            "* Aplicações da PNL: Chatbots, Tradução Automática, Resumo de Texto\n",
            "\n",
            "**Ética e Implicações da IA**\n",
            "\n",
            "* Viés e Discriminação em Sistemas de IA\n",
            "* Privacidade e Segurança de Dados\n",
            "* Impactos Sociais e Econômicos da IA\n",
            "\n",
            "**Recursos Práticos**\n",
            "\n",
            "* Linguagens de Programação para IA: Python, R, Java\n",
            "* Bibliotecas e Ferramentas de IA: TensorFlow, PyTorch, Keras\n",
            "* Projetos e Tutoriais de IA\n",
            "\n",
            "**Recursos Adicionais**\n",
            "\n",
            "* Cursos Online: Coursera, edX, Udemy\n",
            "* Livros e Artigos: \"Inteligência Artificial: Uma Abordagem Moderna\", \"Aprendizado de Máquina em Ação\"\n",
            "* Conferências e Eventos: NeurIPS, ICML, CVPR\n"
          ]
        }
      ],
      "source": [
        "response = model.generate_content(\"Vamos aprender conteúdo sobre IA. Me dê sugestões\")\n",
        "print(response.text)"
      ]
    },
    {
      "cell_type": "code",
      "execution_count": null,
      "metadata": {
        "id": "BwXqzDhST3NX"
      },
      "outputs": [],
      "source": [
        "chat = model.start_chat(history=[])"
      ]
    },
    {
      "cell_type": "code",
      "execution_count": null,
      "metadata": {
        "colab": {
          "background_save": true,
          "base_uri": "https://localhost:8080/",
          "height": 1000
        },
        "id": "NWdMq9hSUPqo",
        "outputId": "0624de6d-fcb2-44d1-f537-6925db5d6a2c"
      },
      "outputs": [
        {
          "name": "stdout",
          "output_type": "stream",
          "text": [
            "Resposta: Kingston\n",
            "Resposta: Ackee and Saltfish\n",
            "Resposta: Ackee and Saltfish é um prato jamaicano tradicional feito com ackee (uma fruta nativa da Jamaica) e bacalhau salgado. O ackee é cozido com cebola, tomate, pimentão e especiarias, e depois misturado com o bacalhau salgado refogado. O prato é normalmente servido ao pequeno-almoço com pão frito (bammy) ou banana frita.\n",
            "\n",
            "O ackee é uma fruta verde com uma textura cremosa quando cozida. Tem um sabor ligeiramente doce e noz. O bacalhau salgado é um tipo de bacalhau que foi preservado pelo sal. Tem um sabor salgado e uma textura firme.\n",
            "\n",
            "Ackee and Saltfish é um prato delicioso e nutritivo que é uma parte importante da culinária jamaicana. É uma boa fonte de proteínas, fibras e vitaminas.\n",
            "Resposta: Cochinita pibil\n",
            "\n",
            "É um prato tradicional mexicano feito com carne de porco marinada em pasta de achiote, sumo de laranja amarga e outras especiarias. A carne é depois embrulhada em folhas de bananeira e assada num forno de barro subterrâneo chamado pib.\n",
            "\n",
            "A cochinita pibil é normalmente servida com tortilhas, cebolas roxas em conserva e habanero. Também pode ser usada como recheio para tacos, empanadas e tamales.\n",
            "\n",
            "É um prato delicioso e saboroso que é uma parte importante da culinária de Yucatán.\n",
            "Resposta: O custo de uma viagem de 7 dias para Cancun, partindo do Rio de Janeiro, varia dependendo da época do ano, do tipo de acomodação e das atividades que pretende realizar.\n",
            "\n",
            "**Passagens aéreas:**\n",
            "\n",
            "* Os voos diretos do Rio de Janeiro para Cancun custam normalmente entre R$ 2.000 e R$ 4.000 por pessoa.\n",
            "* Os voos com escala podem ser mais baratos, mas demoram mais tempo.\n",
            "\n",
            "**Acomodação:**\n",
            "\n",
            "* Os preços dos hotéis em Cancun variam dependendo da localização, comodidades e época do ano.\n",
            "* Pode esperar pagar entre R$ 200 e R$ 1.000 por noite por um quarto de hotel.\n",
            "* Se estiver com um orçamento limitado, pode considerar ficar num hostel ou numa pensão.\n",
            "\n",
            "**Atividades:**\n",
            "\n",
            "* Existem muitas atividades disponíveis em Cancun, incluindo visitas a ruínas maias, natação, snorkeling e mergulho.\n",
            "* Os preços das atividades variam, mas pode esperar pagar entre R$ 50 e R$ 200 por atividade.\n",
            "\n",
            "**Comida e bebida:**\n",
            "\n",
            "* A comida e a bebida em Cancun são relativamente baratas.\n",
            "* Pode esperar pagar entre R$ 20 e R$ 50 por refeição num restaurante.\n",
            "* As bebidas custam normalmente entre R$ 5 e R$ 15.\n",
            "\n",
            "**Transporte:**\n",
            "\n",
            "* O transporte em Cancun é fácil e barato.\n",
            "* Pode apanhar autocarros ou táxis para se deslocar pela cidade.\n",
            "* Também pode alugar um carro se quiser explorar a área circundante.\n",
            "\n",
            "**Custo total estimado:**\n",
            "\n",
            "Com base nos custos acima, pode esperar pagar entre **R$ 5.000 e R$ 15.000** por uma viagem de 7 dias para Cancun, partindo do Rio de Janeiro.\n",
            "\n",
            "**Dicas para economizar dinheiro:**\n",
            "\n",
            "* Viaje durante a época baixa (maio-outubro).\n",
            "* Reserve os seus voos e alojamento com antecedência.\n",
            "* Procure descontos e promoções em atividades e excursões.\n",
            "* Coma em restaurantes locais em vez de restaurantes turísticos.\n",
            "* Utilize os transportes públicos em vez de táxis.\n"
          ]
        }
      ],
      "source": [
        "prompt = input(\"Esperando prompt:\")\n",
        "while prompt != \"fim\":\n",
        "  response = chat.send_message(prompt)\n",
        "  print(f'Resposta: {response.text}')\n",
        "  prompt = input(\"Esperando prompt:\")"
      ]
    }
  ],
  "metadata": {
    "colab": {
      "provenance": [],
      "authorship_tag": "ABX9TyPOYoq4SVd8pag04mWUhRCZ",
      "include_colab_link": true
    },
    "kernelspec": {
      "display_name": "Python 3",
      "name": "python3"
    },
    "language_info": {
      "name": "python"
    }
  },
  "nbformat": 4,
  "nbformat_minor": 0
}